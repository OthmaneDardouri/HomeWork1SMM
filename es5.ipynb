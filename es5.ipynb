{
 "cells": [
  {
   "cell_type": "code",
   "execution_count": 2,
   "metadata": {},
   "outputs": [],
   "source": [
    "import numpy as np\n",
    "import scipy as scipy"
   ]
  },
  {
   "cell_type": "markdown",
   "metadata": {},
   "source": [
    "#### From the examples below, we can infer a relationship between the eigenvalues and the full-rank condition. "
   ]
  },
  {
   "cell_type": "code",
   "execution_count": 3,
   "metadata": {},
   "outputs": [],
   "source": [
    "A = np.array([[4,2],[1,3]])\n",
    "B = np.array([[4,2],[2,1]])\n",
    "rA = np.linalg.matrix_rank(A)  # rank = 2\n",
    "rB = np.linalg.matrix_rank(B)  # rank = 1\n",
    "eA = np.linalg.eigvals(A)  # eigenvalues\n",
    "eB = np.linalg.eigvals(B)  # eigenvalues "
   ]
  },
  {
   "cell_type": "markdown",
   "metadata": {},
   "source": [
    "### For a square matrix:\n",
    "##### If all eigenvalues are non-zero, the matrix is full-rank.\n",
    "##### If at least one eigenvalue is zero, the matrix is not full-rank."
   ]
  },
  {
   "cell_type": "code",
   "execution_count": 4,
   "metadata": {},
   "outputs": [
    {
     "name": "stdout",
     "output_type": "stream",
     "text": [
      "[5. 2.]\n",
      "[5. 0.]\n"
     ]
    }
   ],
   "source": [
    "print(eA)\n",
    "print(eB)"
   ]
  }
 ],
 "metadata": {
  "kernelspec": {
   "display_name": "Python 3",
   "language": "python",
   "name": "python3"
  },
  "language_info": {
   "codemirror_mode": {
    "name": "ipython",
    "version": 3
   },
   "file_extension": ".py",
   "mimetype": "text/x-python",
   "name": "python",
   "nbconvert_exporter": "python",
   "pygments_lexer": "ipython3",
   "version": "3.12.0"
  },
  "orig_nbformat": 4
 },
 "nbformat": 4,
 "nbformat_minor": 2
}
