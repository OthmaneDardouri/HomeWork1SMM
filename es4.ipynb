{
 "cells": [
  {
   "cell_type": "markdown",
   "metadata": {},
   "source": [
    "### Computation of different approximations of Euler costant"
   ]
  },
  {
   "cell_type": "code",
   "execution_count": 1,
   "metadata": {},
   "outputs": [
    {
     "name": "stdout",
     "output_type": "stream",
     "text": [
      "2.0\n",
      "2.37037037037037\n",
      "2.4883199999999994\n",
      "2.5937424601000023\n",
      "2.691588029073608\n",
      "2.7048138294215285\n",
      "2.715568520651728\n",
      "2.7169239322355936\n",
      "2.7181459268249255\n"
     ]
    }
   ],
   "source": [
    "n_vet = [1, 3 ,5, 10, 50, 100, 500, 1000, 10000]\n",
    "for n in n_vet:\n",
    "    res = (1 + 1/n)**n\n",
    "    print(res)"
   ]
  },
  {
   "cell_type": "markdown",
   "metadata": {},
   "source": [
    "For a higher number of N the \"1/n\" term goes below the minimum floating point number so the results tends to be wrong"
   ]
  },
  {
   "cell_type": "code",
   "execution_count": 2,
   "metadata": {},
   "outputs": [
    {
     "name": "stdout",
     "output_type": "stream",
     "text": [
      "1.0\n"
     ]
    }
   ],
   "source": [
    "n = 1000000000000000000000000\n",
    "res = (1 + 1/n)**n\n",
    "print(res) # for a large n the value of 1/n it's so small, so it's equal to 0 (watch es.3)"
   ]
  }
 ],
 "metadata": {
  "kernelspec": {
   "display_name": "Python 3",
   "language": "python",
   "name": "python3"
  },
  "language_info": {
   "codemirror_mode": {
    "name": "ipython",
    "version": 3
   },
   "file_extension": ".py",
   "mimetype": "text/x-python",
   "name": "python",
   "nbconvert_exporter": "python",
   "pygments_lexer": "ipython3",
   "version": "3.12.0"
  },
  "orig_nbformat": 4
 },
 "nbformat": 4,
 "nbformat_minor": 2
}
